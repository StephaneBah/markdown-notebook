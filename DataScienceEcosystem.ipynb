{
 "cells": [
  {
   "cell_type": "markdown",
   "metadata": {},
   "source": [
    "<center>\n",
    "    <img src=\"https://cf-courses-data.s3.us.cloud-object-storage.appdomain.cloud/IBMDeveloperSkillsNetwork-DS0105EN-SkillsNetwork/labs/Module2/images/SN_web_lightmode.png\" width=\"300\" alt=\"cognitiveclass.ai logo\">\n",
    "</center>\n"
   ]
  },
  {
   "cell_type": "markdown",
   "metadata": {},
   "source": [
    "# Outils et écosystème de la science des données\n"
   ]
  },
  {
   "cell_type": "markdown",
   "metadata": {},
   "source": [
    "## Dans ce notebook, les outils et l'écosystème de la science des données sont résumés."
   ]
  },
  {
   "cell_type": "markdown",
   "metadata": {},
   "source": [
    "**Objectifs :**\n",
    "\n",
    "- Lister les langages populaires pour la science des données.\n",
    "- Présenter des outils open source utilisés en science des données.\n",
    "- Expliquer les concepts de base des expressions arithmétiques.\n",
    "- Utiliser les cellules code"
   ]
  },
  {
   "cell_type": "markdown",
   "metadata": {},
   "source": [
    "Certains des langages populaires que les scientifiques des données utilisent sont :\n",
    " - Python\n",
    " - R\n",
    " - Rust"
   ]
  },
  {
   "cell_type": "markdown",
   "metadata": {},
   "source": [
    "Certaines des bibliothèques couramment utilisées par les scientifiques des données incluent :\n",
    "- Numpy\n",
    "- Pandas\n",
    "- Scipy"
   ]
  },
  {
   "cell_type": "markdown",
   "metadata": {},
   "source": [
    "|  Outils de la science des données  | \n",
    "|-----------|\n",
    "| Jupyter Notebook |\n",
    "| VScode |\n",
    "| RStudio |"
   ]
  },
  {
   "cell_type": "markdown",
   "metadata": {},
   "source": [
    "Voici quelques exemples d'évaluation d'expressions arithmétiques en Python\n",
    "1. **Addition** :  \n",
    "   $$\n",
    "   5 + 3 = 8\n",
    "   $$\n",
    "\n",
    "2. **Soustraction** :  \n",
    "   $$\n",
    "   10 - 4 = 6\n",
    "   $$\n",
    "\n",
    "3. **Multiplication** :  \n",
    "   $$\n",
    "   7 \\times 6 = 42\n",
    "   $$\n",
    "\n",
    "4. **Division** :  \n",
    "   $$\n",
    "   20 \\div 4 = 5\n",
    "   $$\n",
    "\n",
    "5. **Exposants** :  \n",
    "   $$\n",
    "   2^3 = 8\n",
    "   $$\n",
    "\n",
    "6. **Division entière** (sans reste) :  \n",
    "   $$\n",
    "   17 \\, \\text{div} \\, 3 = 5\n",
    "   $$\n",
    "\n",
    "7. **Modulo** (reste de la division) :  \n",
    "   $$\n",
    "   17 \\, \\text{mod} \\, 3 = 2\n",
    "   $$"
   ]
  },
  {
   "cell_type": "code",
   "execution_count": 1,
   "metadata": {},
   "outputs": [
    {
     "data": {
      "text/plain": [
       "17"
      ]
     },
     "execution_count": 1,
     "metadata": {},
     "output_type": "execute_result"
    }
   ],
   "source": [
    "(3*4)+5\n",
    "# Ceci est une simple expression arithmétique pour multiplier puis additionner des entiers"
   ]
  },
  {
   "cell_type": "code",
   "execution_count": 2,
   "metadata": {},
   "outputs": [
    {
     "data": {
      "text/plain": [
       "3.3333333333333335"
      ]
     },
     "execution_count": 2,
     "metadata": {},
     "output_type": "execute_result"
    }
   ],
   "source": [
    "# Cela convertira 200 minutes en heures en divisant par 60\n",
    "min = 200\n",
    "hours = min/60\n",
    "hours"
   ]
  },
  {
   "cell_type": "markdown",
   "metadata": {},
   "source": [
    "## Auteur\n",
    "\n",
    "Stephane Bah"
   ]
  },
  {
   "cell_type": "code",
   "execution_count": null,
   "metadata": {},
   "outputs": [],
   "source": []
  }
 ],
 "metadata": {
  "kernelspec": {
   "display_name": "Python 3 (ipykernel)",
   "language": "python",
   "name": "python3"
  },
  "language_info": {
   "codemirror_mode": {
    "name": "ipython",
    "version": 3
   },
   "file_extension": ".py",
   "mimetype": "text/x-python",
   "name": "python",
   "nbconvert_exporter": "python",
   "pygments_lexer": "ipython3",
   "version": "3.12.8"
  }
 },
 "nbformat": 4,
 "nbformat_minor": 4
}
